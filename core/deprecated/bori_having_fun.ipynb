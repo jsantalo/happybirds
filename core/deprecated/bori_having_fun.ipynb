{
 "cells": [
  {
   "cell_type": "code",
   "execution_count": 55,
   "metadata": {
    "collapsed": true
   },
   "outputs": [],
   "source": [
    "import pandas as pd\n",
    "import numpy as np\n",
    "import nltk\n",
    "from nltk.tokenize import word_tokenize\n",
    "from nltk.corpus import stopwords\n",
    "stop = set(stopwords.words('english'))\n",
    "from nltk.tokenize import TweetTokenizer\n",
    "porter = nltk.PorterStemmer()\n",
    "lancaster = nltk.LancasterStemmer()\n",
    "import re\n",
    "import sys\n",
    "sys.path.insert(0, '../')\n",
    "from sklearn.feature_extraction.text import CountVectorizer\n",
    "from sklearn.model_selection import train_test_split\n",
    "from sklearn.metrics import accuracy_score\n",
    "from scipy.sparse import coo_matrix, hstack\n",
    "import matplotlib.pyplot as plt\n",
    "import seaborn as sn"
   ]
  },
  {
   "cell_type": "code",
   "execution_count": 42,
   "metadata": {
    "collapsed": true
   },
   "outputs": [],
   "source": [
    "data = pd.read_csv('../data/tweets_public.csv', sep = \",\", encoding = \"utf-8\")"
   ]
  },
  {
   "cell_type": "code",
   "execution_count": 43,
   "metadata": {},
   "outputs": [
    {
     "data": {
      "text/plain": [
       "tweet_id                                                       569506670189137920\n",
       "airline_sentiment                                                        negative\n",
       "airline_sentiment_confidence                                               0.6473\n",
       "negativereason                                                       Lost Luggage\n",
       "negativereason_confidence                                                  0.6473\n",
       "airline                                                                    United\n",
       "airline_sentiment_gold                                                        NaN\n",
       "name                                                                  szymanski_t\n",
       "negativereason_gold                                                           NaN\n",
       "retweet_count                                                                   0\n",
       "text                            @united if you lost my belongings then BE HONEST!\n",
       "tweet_coord                                                                   NaN\n",
       "tweet_created                                           2015-02-22 06:39:05 -0800\n",
       "tweet_location                                                                NaN\n",
       "user_timezone                                          Eastern Time (US & Canada)\n",
       "users                                                                    [united]\n",
       "hashtags                                                                       []\n",
       "text_without_punct                united if you lost my belongings then BE HONEST\n",
       "tweet_without_stopwords                          united lost belongings BE HONEST\n",
       "list_of_words                              [united, lost, belongings, BE, HONEST]\n",
       "words_list_porter                                [unit, lost, belong, BE, honest]\n",
       "words_list_lancaster                             [unit, lost, belong, be, honest]\n",
       "words_lancaster                                        unit lost belong be honest\n",
       "words_porter                                           unit lost belong BE honest\n",
       "Name: 2, dtype: object"
      ]
     },
     "execution_count": 43,
     "metadata": {},
     "output_type": "execute_result"
    }
   ],
   "source": [
    "data[\"users\"] = data[\"text\"].map(lambda x: re.findall(\"@([A-Za-z0-9_]+)\", x)) # extract usernames\n",
    "data[\"hashtags\"] = data[\"text\"].map(lambda x: re.findall(\"#([A-Za-z0-9_]+)\", x)) # extract hashtags\n",
    "\n",
    "data[\"text_without_punct\"] = data['text'].apply(lambda x: re.sub(r'[^\\w\\s]','',x)) # eliminate all punctuation\n",
    "\n",
    "data['tweet_without_stopwords'] = data['text_without_punct']\\\n",
    ".apply(lambda x: ' '.join([word for word in x.split() if word not in (stop)])) # removing stopwords\n",
    "\n",
    "tt = TweetTokenizer()\n",
    "data['list_of_words'] = data['tweet_without_stopwords'].apply(tt.tokenize) # tokenize text\n",
    "\n",
    "data[\"words_list_porter\"] = data[\"list_of_words\"].apply(lambda x:[porter.stem(y) for y in x]) # stemmer porter\n",
    "data[\"words_list_lancaster\"] = data[\"list_of_words\"].apply(lambda x:[lancaster.stem(y) for y in x]) # stemmer lancaster\n",
    "data[\"words_lancaster\"] = data['words_list_lancaster'].apply(lambda x: ' '.join(x)) #convert list to string, so TfidfVectorizer can eat it\n",
    "data[\"words_porter\"] = data['words_list_porter'].apply(lambda x: ' '.join(x))\n",
    "\n",
    "data.iloc[2]"
   ]
  },
  {
   "cell_type": "code",
   "execution_count": 44,
   "metadata": {},
   "outputs": [],
   "source": [
    "# adding length to the feature space\n",
    "cv = CountVectorizer(max_features=200)\n",
    "\n",
    "X_cv = cv.fit_transform(data['words_lancaster'])\n",
    "\n",
    "data['length'] = data['text'].apply(len)\n",
    "length = data[\"length\"].values\n",
    "length1 = np.asmatrix(length)\n",
    "length2 = length1.transpose()\n",
    "sparse_matrix = scipy.sparse.csr_matrix(length2)\n",
    "\n",
    "Y = data['airline_sentiment'].values\n",
    "\n",
    "my_features = hstack((X_cv, sparse_matrix)) # np.hstack creates an array of the two matrices!!!\n",
    "my_features.shape\n",
    "X_train, X_test, y_train, y_test = train_test_split(my_features, Y, test_size=0.4, random_state=0)   "
   ]
  },
  {
   "cell_type": "code",
   "execution_count": 45,
   "metadata": {},
   "outputs": [
    {
     "name": "stdout",
     "output_type": "stream",
     "text": [
      "[ 0.72701422  0.73339658  0.74952562  0.75332068  0.72554606]\n"
     ]
    }
   ],
   "source": [
    "# testing results after having the new features added\n",
    "from sklearn.model_selection import cross_val_score\n",
    "from sklearn.naive_bayes import BernoulliNB\n",
    "clf = BernoulliNB()\n",
    "clf.fit(X_train, y_train)\n",
    "y_pred = clf.predict(X_test)\n",
    "scores = cross_val_score(clf, X_train, y_train, cv=5)\n",
    "print(scores)"
   ]
  },
  {
   "cell_type": "code",
   "execution_count": 49,
   "metadata": {},
   "outputs": [
    {
     "data": {
      "text/plain": [
       "array([[ 0.57733813,  0.24820144,  0.17446043],\n",
       "       [ 0.047276  ,  0.83610986,  0.11661414],\n",
       "       [ 0.11533243,  0.36499322,  0.51967436]])"
      ]
     },
     "execution_count": 49,
     "metadata": {},
     "output_type": "execute_result"
    }
   ],
   "source": [
    "# confusion matrix \n",
    "# https://stackoverflow.com/questions/20927368/python-how-to-normalize-a-confusion-matrix\n",
    "from sklearn.metrics import confusion_matrix\n",
    "conf_matrix = confusion_matrix(y_test, y_pred, labels=[\"positive\", \"negative\", \"neutral\"])\n",
    "cm = conf_matrix.astype('float') / conf_matrix.sum(axis=1)[:, np.newaxis]\n",
    "cm"
   ]
  },
  {
   "cell_type": "code",
   "execution_count": 54,
   "metadata": {},
   "outputs": [
    {
     "data": {
      "image/png": "[encoded data removed]",
      "text/plain": [
       "<matplotlib.figure.Figure at 0x7fa673cd0320>"
      ]
     },
     "metadata": {},
     "output_type": "display_data"
    }
   ],
   "source": [
    "# confusion matrix\n",
    "%matplotlib inline\n",
    "df_cm = pd.DataFrame(cm, index = [\"positive\", \"negative\",\"neutral\"], columns = [\"positive\", \"negative\",\"neutral\"])\n",
    "plt.figure(figsize = (10,7))\n",
    "sn.heatmap(df_cm, annot=True);"
   ]
  },
  {
   "cell_type": "code",
   "execution_count": null,
   "metadata": {
    "collapsed": true
   },
   "outputs": [],
   "source": []
  }
 ],
 "metadata": {
  "kernelspec": {
   "display_name": "Python 3",
   "language": "python",
   "name": "python3"
  },
  "language_info": {
   "codemirror_mode": {
    "name": "ipython",
    "version": 3
   },
   "file_extension": ".py",
   "mimetype": "text/x-python",
   "name": "python",
   "nbconvert_exporter": "python",
   "pygments_lexer": "ipython3",
   "version": "3.6.1"
  }
 },
 "nbformat": 4,
 "nbformat_minor": 2
}
