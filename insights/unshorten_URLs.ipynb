{
 "cells": [
  {
   "cell_type": "code",
   "execution_count": 1,
   "metadata": {
    "collapsed": true
   },
   "outputs": [],
   "source": [
    "import pandas as pd\n",
    "import sys\n",
    "import csv\n",
    "import re\n",
    "pd.set_option('display.max_colwidth', -1)"
   ]
  },
  {
   "cell_type": "code",
   "execution_count": 2,
   "metadata": {
    "collapsed": true
   },
   "outputs": [],
   "source": [
    "data = pd.read_csv(\"../data/tweets_public_es.csv\", encoding = \"utf-16\", sep = \",\")\n",
    "df = data.drop_duplicates(subset='text')"
   ]
  },
  {
   "cell_type": "code",
   "execution_count": 3,
   "metadata": {
    "collapsed": true
   },
   "outputs": [],
   "source": [
    "url_pattern = \"http[s]?://(?:[a-zA-Z]|[0-9]|[$-_@.&+]|[!*\\(\\),]|(?:%[0-9a-fA-F][0-9a-fA-F]))+\"\n",
    "url_dict = dict()\n",
    "for index,row in df.iterrows():\n",
    "    text = row[\"text\"].lower().strip()\n",
    "    link = re.findall(url_pattern, text)\n",
    "    for i in link:\n",
    "        if len(i) > 0:\n",
    "            if i not in url_dict:\n",
    "                url_dict[i] = 1\n",
    "            else:\n",
    "                url_dict[i] += 1\n",
    "urls = pd.DataFrame.from_dict(url_dict, orient = 'index').reset_index().rename(columns={'Index': 'url', 0:'count'})"
   ]
  },
  {
   "cell_type": "code",
   "execution_count": 4,
   "metadata": {},
   "outputs": [
    {
     "data": {
      "text/plain": [
       "5448"
      ]
     },
     "execution_count": 4,
     "metadata": {},
     "output_type": "execute_result"
    }
   ],
   "source": [
    "len(url_dict)"
   ]
  },
  {
   "cell_type": "code",
   "execution_count": 4,
   "metadata": {},
   "outputs": [
    {
     "data": {
      "text/html": [
       "<div>\n",
       "<style scoped>\n",
       "    .dataframe tbody tr th:only-of-type {\n",
       "        vertical-align: middle;\n",
       "    }\n",
       "\n",
       "    .dataframe tbody tr th {\n",
       "        vertical-align: top;\n",
       "    }\n",
       "\n",
       "    .dataframe thead th {\n",
       "        text-align: right;\n",
       "    }\n",
       "</style>\n",
       "<table border=\"1\" class=\"dataframe\">\n",
       "  <thead>\n",
       "    <tr style=\"text-align: right;\">\n",
       "      <th></th>\n",
       "      <th>index</th>\n",
       "      <th>count</th>\n",
       "    </tr>\n",
       "  </thead>\n",
       "  <tbody>\n",
       "    <tr>\n",
       "      <th>787</th>\n",
       "      <td>https://t.co/tg22njbvmj</td>\n",
       "      <td>3</td>\n",
       "    </tr>\n",
       "    <tr>\n",
       "      <th>1009</th>\n",
       "      <td>https://t.co/eiq5jfzwjh</td>\n",
       "      <td>3</td>\n",
       "    </tr>\n",
       "    <tr>\n",
       "      <th>168</th>\n",
       "      <td>https://t.co/63s4gwra1b</td>\n",
       "      <td>3</td>\n",
       "    </tr>\n",
       "    <tr>\n",
       "      <th>2201</th>\n",
       "      <td>https://t.co/enqtdp2pln</td>\n",
       "      <td>3</td>\n",
       "    </tr>\n",
       "    <tr>\n",
       "      <th>860</th>\n",
       "      <td>https://t.co/czbhzfeeki</td>\n",
       "      <td>3</td>\n",
       "    </tr>\n",
       "  </tbody>\n",
       "</table>\n",
       "</div>"
      ],
      "text/plain": [
       "                        index  count\n",
       "787   https://t.co/tg22njbvmj  3    \n",
       "1009  https://t.co/eiq5jfzwjh  3    \n",
       "168   https://t.co/63s4gwra1b  3    \n",
       "2201  https://t.co/enqtdp2pln  3    \n",
       "860   https://t.co/czbhzfeeki  3    "
      ]
     },
     "execution_count": 4,
     "metadata": {},
     "output_type": "execute_result"
    }
   ],
   "source": [
    "#urls.to_csv(\"urls_grouped.csv\", sep = \"\\t\", encoding = \"utf-8\", index = False)\n",
    "urls.sort_values([\"count\"], ascending = False).head(5)"
   ]
  },
  {
   "cell_type": "code",
   "execution_count": 11,
   "metadata": {},
   "outputs": [
    {
     "data": {
      "text/html": [
       "<div>\n",
       "<style scoped>\n",
       "    .dataframe tbody tr th:only-of-type {\n",
       "        vertical-align: middle;\n",
       "    }\n",
       "\n",
       "    .dataframe tbody tr th {\n",
       "        vertical-align: top;\n",
       "    }\n",
       "\n",
       "    .dataframe thead th {\n",
       "        text-align: right;\n",
       "    }\n",
       "</style>\n",
       "<table border=\"1\" class=\"dataframe\">\n",
       "  <thead>\n",
       "    <tr style=\"text-align: right;\">\n",
       "      <th></th>\n",
       "      <th>airline_sentiment</th>\n",
       "      <th>is_reply</th>\n",
       "      <th>reply_count</th>\n",
       "      <th>retweet_count</th>\n",
       "      <th>text</th>\n",
       "      <th>tweet_coord</th>\n",
       "      <th>tweet_created</th>\n",
       "      <th>tweet_id</th>\n",
       "      <th>tweet_location</th>\n",
       "      <th>user_timezone</th>\n",
       "    </tr>\n",
       "  </thead>\n",
       "  <tbody>\n",
       "    <tr>\n",
       "      <th>258</th>\n",
       "      <td>neutral</td>\n",
       "      <td>False</td>\n",
       "      <td>0</td>\n",
       "      <td>0</td>\n",
       "      <td>Así se bajó un pasajero de RyanAir harto de esperar para desembarcar https://t.co/63S4gwRA1B https://t.co/2nl0IYtDzE https://t.co/bkhry8gUWF</td>\n",
       "      <td>NaN</td>\n",
       "      <td>Thu Jan 04 08:06:38 +0000 2018</td>\n",
       "      <td>948828000287625216</td>\n",
       "      <td>NaN</td>\n",
       "      <td>Madrid</td>\n",
       "    </tr>\n",
       "    <tr>\n",
       "      <th>3045</th>\n",
       "      <td>negative</td>\n",
       "      <td>False</td>\n",
       "      <td>0</td>\n",
       "      <td>0</td>\n",
       "      <td>Así se bajó un pasajero de RyanAir harto de esperar para desembarcar https://t.co/63S4gwRA1B https://t.co/f03ztfVPbE https://t.co/s7boMyLwtl</td>\n",
       "      <td>NaN</td>\n",
       "      <td>Thu Jan 04 13:07:07 +0000 2018</td>\n",
       "      <td>948903621713911808</td>\n",
       "      <td>NaN</td>\n",
       "      <td>Madrid</td>\n",
       "    </tr>\n",
       "    <tr>\n",
       "      <th>6224</th>\n",
       "      <td>neutral</td>\n",
       "      <td>False</td>\n",
       "      <td>0</td>\n",
       "      <td>0</td>\n",
       "      <td>Ryanair no se conforma sólo con los vuelos https://t.co/63S4gwRA1B https://t.co/MvIcLIMW7h https://t.co/3KQ9RP8fcq</td>\n",
       "      <td>NaN</td>\n",
       "      <td>Fri Nov 17 11:44:45 +0000 2017</td>\n",
       "      <td>931488275524710401</td>\n",
       "      <td>NaN</td>\n",
       "      <td>Madrid</td>\n",
       "    </tr>\n",
       "  </tbody>\n",
       "</table>\n",
       "</div>"
      ],
      "text/plain": [
       "     airline_sentiment  is_reply  reply_count  retweet_count  \\\n",
       "258   neutral           False     0            0               \n",
       "3045  negative          False     0            0               \n",
       "6224  neutral           False     0            0               \n",
       "\n",
       "                                                                                                                                              text  \\\n",
       "258   Así se bajó un pasajero de RyanAir harto de esperar para desembarcar https://t.co/63S4gwRA1B https://t.co/2nl0IYtDzE https://t.co/bkhry8gUWF   \n",
       "3045  Así se bajó un pasajero de RyanAir harto de esperar para desembarcar https://t.co/63S4gwRA1B https://t.co/f03ztfVPbE https://t.co/s7boMyLwtl   \n",
       "6224  Ryanair no se conforma sólo con los vuelos https://t.co/63S4gwRA1B https://t.co/MvIcLIMW7h https://t.co/3KQ9RP8fcq                             \n",
       "\n",
       "     tweet_coord                   tweet_created            tweet_id  \\\n",
       "258   NaN         Thu Jan 04 08:06:38 +0000 2018  948828000287625216   \n",
       "3045  NaN         Thu Jan 04 13:07:07 +0000 2018  948903621713911808   \n",
       "6224  NaN         Fri Nov 17 11:44:45 +0000 2017  931488275524710401   \n",
       "\n",
       "     tweet_location user_timezone  \n",
       "258   NaN            Madrid        \n",
       "3045  NaN            Madrid        \n",
       "6224  NaN            Madrid        "
      ]
     },
     "execution_count": 11,
     "metadata": {},
     "output_type": "execute_result"
    }
   ],
   "source": [
    "# to check tweets one by one\n",
    "df[df[\"text\"].str.contains(\"https://t.co/63s4gwra1b\", case = False)]"
   ]
  },
  {
   "cell_type": "markdown",
   "metadata": {
    "collapsed": true
   },
   "source": [
    "# This takes hours, so I leave it here as a markdown. Feel free to convert to code to run - for results see drive.\n",
    "\n",
    "# Note that not all tiny urls get unshortened, probably due to the refused connection. \n",
    "\n",
    "import requests\n",
    "import csv\n",
    "import time\n",
    "\n",
    "\n",
    "myfile = open(\"urls_grouped.csv\", \"rb\")\n",
    "\n",
    "lines = myfile.readlines()[1:]\n",
    "\n",
    "\n",
    "with open(\"urls_extracted.csv\", \"wb\") as csv_file:\n",
    "    writer = csv.writer(csv_file, delimiter = \"\\t\")\n",
    "    \n",
    "    for i in lines:\n",
    "        short_link = i.split(\"\\t\")[0]\n",
    "        count = int(i.split(\"\\t\")[1])\n",
    "        print short_link\n",
    "        try:\n",
    "            r = requests.head(short_link, allow_redirects = True)\n",
    "            long_link = r.url\n",
    "            if short_link != long_link:\n",
    "                writer.writerow([short_link, long_link, count])\n",
    "            else:\n",
    "                pass\n",
    "            print \"sleeping\"\n",
    "            time.sleep(2)\n",
    "        except requests.exceptions.ConnectionError:\n",
    "            r.status_code = \"Connection refused\"\n",
    "\n",
    "\n",
    "myfile.close()"
   ]
  },
  {
   "cell_type": "code",
   "execution_count": 7,
   "metadata": {},
   "outputs": [
    {
     "name": "stderr",
     "output_type": "stream",
     "text": [
      "/home/borbota/anaconda/envs/uab/lib/python3.6/site-packages/ipykernel_launcher.py:4: SettingWithCopyWarning: \n",
      "A value is trying to be set on a copy of a slice from a DataFrame.\n",
      "Try using .loc[row_indexer,col_indexer] = value instead\n",
      "\n",
      "See the caveats in the documentation: http://pandas.pydata.org/pandas-docs/stable/indexing.html#indexing-view-versus-copy\n",
      "  after removing the cwd from sys.path.\n",
      "/home/borbota/anaconda/envs/uab/lib/python3.6/site-packages/ipykernel_launcher.py:7: FutureWarning: set_value is deprecated and will be removed in a future release. Please use .at[] or .iat[] accessors instead\n",
      "  import sys\n"
     ]
    }
   ],
   "source": [
    "# maybe check those tweets, which have more than one link\n",
    "import re\n",
    "def count_links(df):\n",
    "    df[\"nr_links\"] = 0\n",
    "    for index,row in df.iterrows():\n",
    "        result = re.findall(\"http[s]?://(?:[a-zA-Z]|[0-9]|[$-_@.&+]|[!*\\(\\),]|(?:%[0-9a-fA-F][0-9a-fA-F]))+\", row[\"text\"])\n",
    "        df.set_value(index, \"nr_links\", len(result))\n",
    "count_links(df)"
   ]
  },
  {
   "cell_type": "code",
   "execution_count": 52,
   "metadata": {},
   "outputs": [
    {
     "data": {
      "image/png": "[encoded data removed]",
      "text/plain": [
       "<matplotlib.figure.Figure at 0x7fe056ff0cf8>"
      ]
     },
     "metadata": {},
     "output_type": "display_data"
    }
   ],
   "source": [
    "# import matplotlib.pyplot as plt\n",
    "nr_links = df[\"nr_links\"].value_counts().reset_index()\n",
    "fig, ax = plt.subplots()\n",
    "plt.bar(nr_links[\"index\"], nr_links[\"nr_links\"], align='center', alpha=0.75, color='orange')\n",
    "plt.xticks(nr_links[\"index\"])\n",
    "plt.ylabel('Number of tweets containing urls')\n",
    "plt.xlabel('Number urls in tweets')\n",
    "ax.spines['top'].set_visible(False) # remove frame\n",
    "ax.spines['bottom'].set_visible(False) # remove frame\n",
    "ax.spines['left'].set_visible(False) # remove frame\n",
    "ax.spines['right'].set_visible(False) # remove frame\n",
    "\n",
    "plt.show();"
   ]
  },
  {
   "cell_type": "code",
   "execution_count": 53,
   "metadata": {},
   "outputs": [
    {
     "data": {
      "text/plain": [
       "1    4745\n",
       "0    2684\n",
       "2    361 \n",
       "3    4   \n",
       "Name: nr_links, dtype: int64"
      ]
     },
     "execution_count": 53,
     "metadata": {},
     "output_type": "execute_result"
    }
   ],
   "source": [
    "df[\"nr_links\"].value_counts()"
   ]
  },
  {
   "cell_type": "code",
   "execution_count": 63,
   "metadata": {},
   "outputs": [
    {
     "data": {
      "text/html": [
       "<div>\n",
       "<style scoped>\n",
       "    .dataframe tbody tr th:only-of-type {\n",
       "        vertical-align: middle;\n",
       "    }\n",
       "\n",
       "    .dataframe tbody tr th {\n",
       "        vertical-align: top;\n",
       "    }\n",
       "\n",
       "    .dataframe thead th {\n",
       "        text-align: right;\n",
       "    }\n",
       "</style>\n",
       "<table border=\"1\" class=\"dataframe\">\n",
       "  <thead>\n",
       "    <tr style=\"text-align: right;\">\n",
       "      <th></th>\n",
       "      <th>airline_sentiment</th>\n",
       "      <th>is_reply</th>\n",
       "      <th>reply_count</th>\n",
       "      <th>retweet_count</th>\n",
       "      <th>text</th>\n",
       "      <th>tweet_coord</th>\n",
       "      <th>tweet_created</th>\n",
       "      <th>tweet_id</th>\n",
       "      <th>tweet_location</th>\n",
       "      <th>user_timezone</th>\n",
       "      <th>nr_links</th>\n",
       "    </tr>\n",
       "  </thead>\n",
       "  <tbody>\n",
       "    <tr>\n",
       "      <th>258</th>\n",
       "      <td>neutral</td>\n",
       "      <td>False</td>\n",
       "      <td>0</td>\n",
       "      <td>0</td>\n",
       "      <td>Así se bajó un pasajero de RyanAir harto de esperar para desembarcar https://t.co/63S4gwRA1B https://t.co/2nl0IYtDzE https://t.co/bkhry8gUWF</td>\n",
       "      <td>NaN</td>\n",
       "      <td>Thu Jan 04 08:06:38 +0000 2018</td>\n",
       "      <td>948828000287625216</td>\n",
       "      <td>NaN</td>\n",
       "      <td>Madrid</td>\n",
       "      <td>3</td>\n",
       "    </tr>\n",
       "    <tr>\n",
       "      <th>3045</th>\n",
       "      <td>negative</td>\n",
       "      <td>False</td>\n",
       "      <td>0</td>\n",
       "      <td>0</td>\n",
       "      <td>Así se bajó un pasajero de RyanAir harto de esperar para desembarcar https://t.co/63S4gwRA1B https://t.co/f03ztfVPbE https://t.co/s7boMyLwtl</td>\n",
       "      <td>NaN</td>\n",
       "      <td>Thu Jan 04 13:07:07 +0000 2018</td>\n",
       "      <td>948903621713911808</td>\n",
       "      <td>NaN</td>\n",
       "      <td>Madrid</td>\n",
       "      <td>3</td>\n",
       "    </tr>\n",
       "    <tr>\n",
       "      <th>6224</th>\n",
       "      <td>neutral</td>\n",
       "      <td>False</td>\n",
       "      <td>0</td>\n",
       "      <td>0</td>\n",
       "      <td>Ryanair no se conforma sólo con los vuelos https://t.co/63S4gwRA1B https://t.co/MvIcLIMW7h https://t.co/3KQ9RP8fcq</td>\n",
       "      <td>NaN</td>\n",
       "      <td>Fri Nov 17 11:44:45 +0000 2017</td>\n",
       "      <td>931488275524710401</td>\n",
       "      <td>NaN</td>\n",
       "      <td>Madrid</td>\n",
       "      <td>3</td>\n",
       "    </tr>\n",
       "    <tr>\n",
       "      <th>6940</th>\n",
       "      <td>negative</td>\n",
       "      <td>False</td>\n",
       "      <td>0</td>\n",
       "      <td>0</td>\n",
       "      <td>Ryanair afronta la primera huelga de pilotos de su historia https://t.co/X2spJLiC5N by https://t.co/tDgnXZaRzE emba… https://t.co/bkkMWVReJw</td>\n",
       "      <td>NaN</td>\n",
       "      <td>Wed Dec 13 03:30:06 +0000 2017</td>\n",
       "      <td>940785874979229698</td>\n",
       "      <td>NaN</td>\n",
       "      <td>Pacific Time (US &amp; Canada)</td>\n",
       "      <td>3</td>\n",
       "    </tr>\n",
       "  </tbody>\n",
       "</table>\n",
       "</div>"
      ],
      "text/plain": [
       "     airline_sentiment  is_reply  reply_count  retweet_count  \\\n",
       "258   neutral           False     0            0               \n",
       "3045  negative          False     0            0               \n",
       "6224  neutral           False     0            0               \n",
       "6940  negative          False     0            0               \n",
       "\n",
       "                                                                                                                                              text  \\\n",
       "258   Así se bajó un pasajero de RyanAir harto de esperar para desembarcar https://t.co/63S4gwRA1B https://t.co/2nl0IYtDzE https://t.co/bkhry8gUWF   \n",
       "3045  Así se bajó un pasajero de RyanAir harto de esperar para desembarcar https://t.co/63S4gwRA1B https://t.co/f03ztfVPbE https://t.co/s7boMyLwtl   \n",
       "6224  Ryanair no se conforma sólo con los vuelos https://t.co/63S4gwRA1B https://t.co/MvIcLIMW7h https://t.co/3KQ9RP8fcq                             \n",
       "6940  Ryanair afronta la primera huelga de pilotos de su historia https://t.co/X2spJLiC5N by https://t.co/tDgnXZaRzE emba… https://t.co/bkkMWVReJw   \n",
       "\n",
       "     tweet_coord                   tweet_created            tweet_id  \\\n",
       "258   NaN         Thu Jan 04 08:06:38 +0000 2018  948828000287625216   \n",
       "3045  NaN         Thu Jan 04 13:07:07 +0000 2018  948903621713911808   \n",
       "6224  NaN         Fri Nov 17 11:44:45 +0000 2017  931488275524710401   \n",
       "6940  NaN         Wed Dec 13 03:30:06 +0000 2017  940785874979229698   \n",
       "\n",
       "     tweet_location               user_timezone  nr_links  \n",
       "258   NaN            Madrid                      3         \n",
       "3045  NaN            Madrid                      3         \n",
       "6224  NaN            Madrid                      3         \n",
       "6940  NaN            Pacific Time (US & Canada)  3         "
      ]
     },
     "execution_count": 63,
     "metadata": {},
     "output_type": "execute_result"
    }
   ],
   "source": [
    "df[df.nr_links == 3].tail(10)\n",
    "#len(df[df[\"text\"].str.contains(\"Iberia celebra\", case = False)])"
   ]
  }
 ],
 "metadata": {
  "kernelspec": {
   "display_name": "Python 3",
   "language": "python",
   "name": "python3"
  },
  "language_info": {
   "codemirror_mode": {
    "name": "ipython",
    "version": 3
   },
   "file_extension": ".py",
   "mimetype": "text/x-python",
   "name": "python",
   "nbconvert_exporter": "python",
   "pygments_lexer": "ipython3",
   "version": "3.6.1"
  }
 },
 "nbformat": 4,
 "nbformat_minor": 2
}
