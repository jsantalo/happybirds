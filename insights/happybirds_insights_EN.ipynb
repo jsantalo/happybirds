{
 "cells": [
  {
   "cell_type": "code",
   "execution_count": null,
   "metadata": {
    "collapsed": true
   },
   "outputs": [],
   "source": [
    "import pandas as pd\n",
    "import matplotlib.pyplot as plt\n",
    "%matplotlib inline\n",
    "from matplotlib.pyplot import *\n",
    "import matplotlib as mpl\n",
    "import matplotlib.dates as mdates\n",
    "from wordcloud import WordCloud, STOPWORDS"
   ]
  },
  {
   "cell_type": "code",
   "execution_count": null,
   "metadata": {
    "collapsed": true
   },
   "outputs": [],
   "source": [
    "data = pd.read_csv(\"../data/tweets_public.csv\", encoding = \"utf-8\", sep = \",\")"
   ]
  },
  {
   "cell_type": "markdown",
   "metadata": {},
   "source": [
    "** list of airline names **\n",
    "americanair, delta, jetblue, southwestair, united, usairways, virginamerica"
   ]
  },
  {
   "cell_type": "code",
   "execution_count": null,
   "metadata": {
    "collapsed": true
   },
   "outputs": [],
   "source": [
    "def remove_whitespace(x):\n",
    "    \"\"\"\n",
    "    Helper function to remove any blank space from a string\n",
    "    x: a string\n",
    "    \"\"\"\n",
    "    try:\n",
    "        # Remove spaces inside of the string\n",
    "        x = \" \".join(x.split())\n",
    "\n",
    "    except:\n",
    "        pass\n",
    "    return x"
   ]
  },
  {
   "cell_type": "code",
   "execution_count": null,
   "metadata": {
    "collapsed": true
   },
   "outputs": [],
   "source": [
    "from nltk.corpus import stopwords\n",
    "\n",
    "stop = stopwords.words('english')\n",
    "df[\"text\"] = df[\"text\"].apply(lambda x: x.lower()) # get lower\n",
    "df[\"text\"] = df[\"text\"].apply(lambda x: re.sub\\\n",
    "                              (\"https?://(?:[-\\w.]|(?:%[\\da-fA-F]{2}))+\", \"url\", x))\n",
    "#df[\"text_2\"] = df[\"text\"].apply(lambda x: re.sub(\"[^a-zA-Z]+\", \" \", x)) # remove everything not alphabetical characters\n",
    "df[\"text_2\"] = df[\"text\"].apply(lambda x: re.sub(\"[^a-zA-Z@]\", \" \", x)) # remove all but alphabetical keeping \"@\"\n",
    "\n",
    "df[\"text_3\"] = \\\n",
    "    df['text_2'].apply(lambda x: ' '.join([word for word in x.split() if word not in (stop)])) # remove stopwords\n",
    "df[\"text_2\"] = df[\"text_2\"].apply(remove_whitespace)  # remove extra whitespaces"
   ]
  },
  {
   "cell_type": "code",
   "execution_count": null,
   "metadata": {},
   "outputs": [],
   "source": [
    "data[\"airline\"].value_counts()"
   ]
  },
  {
   "cell_type": "code",
   "execution_count": null,
   "metadata": {
    "collapsed": true
   },
   "outputs": [],
   "source": [
    "data.tweet_created = pd.to_datetime(data.tweet_created)"
   ]
  },
  {
   "cell_type": "code",
   "execution_count": null,
   "metadata": {},
   "outputs": [],
   "source": [
    "fig, ax = subplots()\n",
    "data.groupby([pd.Grouper(key='tweet_created', freq='D'), 'airline_sentiment']).size().unstack().plot(figsize=(15,7), \\\n",
    "  color = ['#FF860C', 'grey', '#0080FF'], linewidth = 2, ax = ax)\n",
    "ax.xaxis.set_major_locator(mdates.DayLocator(interval = 3))\n",
    "ax.set_ylabel(\"number of tweets\")\n",
    "ax.spines['left'].set_visible(False)\n",
    "ax.spines['top'].set_visible(False)\n",
    "ax.spines['right'].set_visible(False)\n",
    "ax.spines['bottom'].set_visible(False)\n",
    "ax.legend(loc='upper left')\n",
    "ax.grid(False)\n",
    "ax.set_facecolor('#f3f3f3ff')\n",
    "\n",
    "\"\"\"\n",
    "savefig(\"sentiment_timeline_EN.png\", papertype=None, format=None,\n",
    "        transparent=True, bbox_inches='tight', pad_inches=0.1,\n",
    "        frameon=None)\n",
    "\"\"\"\n",
    ";"
   ]
  },
  {
   "cell_type": "code",
   "execution_count": null,
   "metadata": {
    "collapsed": true
   },
   "outputs": [],
   "source": [
    "df = data.copy()"
   ]
  },
  {
   "cell_type": "code",
   "execution_count": null,
   "metadata": {
    "collapsed": true
   },
   "outputs": [],
   "source": [
    "# df.reset_index().set_index('tweet_created').resample('1D').size().reset_index(name='tweet_count').sort_values([\"tweet_count\"], ascending = False)"
   ]
  },
  {
   "cell_type": "code",
   "execution_count": null,
   "metadata": {},
   "outputs": [],
   "source": [
    "def create_columns_with_airlines(df):\n",
    "    list_of_airlines = [\"americanair\", \"delta\", \"jetblue\", \"southwestair\", \"united\", \"usairways\", \"virginamerica\"]\n",
    "    for airline in list_of_airlines:\n",
    "        df[airline] = \"\"\n",
    "        for index,row in df.iterrows():\n",
    "            if airline in row[\"text\"].lower():\n",
    "                df.set_value(index,airline,1)\n",
    "            else:\n",
    "                df.set_value(index,airline,0)\n",
    "        df[airline] = df[airline].astype(str).astype(int)\n",
    "create_columns_with_airlines(df)"
   ]
  },
  {
   "cell_type": "code",
   "execution_count": null,
   "metadata": {
    "collapsed": true
   },
   "outputs": [],
   "source": [
    "df = df.reset_index().set_index('tweet_created')\n",
    "airlines_day = df.resample('D').apply({'americanair':'sum', 'delta': 'sum', 'jetblue': 'sum', 'southwestair': 'sum',\n",
    "                                      'united': 'sum', 'usairways': 'sum', 'virginamerica': 'sum'})"
   ]
  },
  {
   "cell_type": "code",
   "execution_count": null,
   "metadata": {
    "collapsed": true
   },
   "outputs": [],
   "source": [
    "airlines_day_unstacked = airlines_day.unstack().reset_index()\n",
    "airlines_day_unstacked.rename(columns={'level_0': 'airline', 0: 'count'}, inplace=True)"
   ]
  },
  {
   "cell_type": "code",
   "execution_count": null,
   "metadata": {
    "collapsed": true
   },
   "outputs": [],
   "source": [
    "# remove zeros\n",
    "airlines_day_unstacked = airlines_day_unstacked[(airlines_day_unstacked != 0).all(1)]"
   ]
  },
  {
   "cell_type": "code",
   "execution_count": null,
   "metadata": {
    "collapsed": true
   },
   "outputs": [],
   "source": [
    "airlines_day_unstacked[\"tweet_created\"] = airlines_day_unstacked[\"tweet_created\"].apply(lambda x: x.strftime('%Y-%m-%d'))"
   ]
  },
  {
   "cell_type": "code",
   "execution_count": null,
   "metadata": {},
   "outputs": [],
   "source": [
    "# http://jose-coto.com/styling-with-seaborn\n",
    "import seaborn as sns\n",
    "\n",
    "pivot = airlines_day_unstacked.pivot(\"airline\", \"tweet_created\", \"count\")\n",
    "sns.set(rc={'axes.facecolor':'#f3f3f3ff', 'figure.facecolor':'#f3f3f3ff'})\n",
    "sns.set(rc={'figure.figsize':(25,10)})\n",
    "sns.set(rc={'axes.labelsize': 14, 'legend.fontsize': 14,'axes.titlesize': 14,\\\n",
    "            'xtick.labelsize': 14, 'ytick.labelsize': 14}) # 'font.size': 20, # this is not working :\n",
    "plt.figure(figsize=(25, 10))\n",
    "\n",
    "cmap2 = sns.cubehelix_palette(light=1, as_cmap=True)\n",
    "cmap1 = mpl.colors.ListedColormap(sns.color_palette(\"pink_r\", 100))\n",
    "ax = sns.heatmap(pivot, cmap = cmap1)\n",
    "#ax = sns.heatmap(pivot)\n",
    "#ax.set_ylabel(\"airline mentions\")\n",
    "ax.set_ylabel('')    \n",
    "ax.set_xlabel('')\n",
    "plt.yticks(fontsize=20)\n",
    "\n",
    "\"\"\"\n",
    "savefig(\"airlines_by_day_EN.png\", papertype=None, format=None,\n",
    "        transparent=True, bbox_inches='tight', pad_inches=0.1,\n",
    "        frameon=None)\n",
    "\"\"\"\n",
    ";"
   ]
  },
  {
   "cell_type": "code",
   "execution_count": null,
   "metadata": {
    "collapsed": true
   },
   "outputs": [],
   "source": [
    "#select only that day\n",
    "mask = (data['tweet_created'] > \"2015-02-23 00:00:00\") & (data['tweet_created'] <= \"2015-02-23 23:59:59\")\n",
    "data_2015_02_23 = data.loc[mask]"
   ]
  },
  {
   "cell_type": "code",
   "execution_count": null,
   "metadata": {
    "collapsed": true
   },
   "outputs": [],
   "source": [
    "#select American\n",
    "data_2015_02_23_american = data_2015_02_23.loc[data_2015_02_23.airline == \"American\"]"
   ]
  },
  {
   "cell_type": "code",
   "execution_count": null,
   "metadata": {
    "collapsed": true
   },
   "outputs": [],
   "source": [
    "pd.set_option('display.max_colwidth', -1)\n",
    "data_2015_02_23_american_tweets = data_2015_02_23_american[\"text\"]"
   ]
  },
  {
   "cell_type": "code",
   "execution_count": null,
   "metadata": {},
   "outputs": [],
   "source": [
    "wc = {'width': 600, 'height': 300, 'random_state': 0}\n",
    "wordcloud = WordCloud(**wc).generate(''.join(data_2015_02_23_american_tweets))\n",
    "plt.imshow(wordcloud)\n",
    "plt.axis(\"off\");"
   ]
  },
  {
   "cell_type": "code",
   "execution_count": null,
   "metadata": {
    "collapsed": true
   },
   "outputs": [],
   "source": [
    "data_2015_02_23_american_tweets = data_2015_02_23_american_tweets.reset_index()"
   ]
  },
  {
   "cell_type": "code",
   "execution_count": null,
   "metadata": {},
   "outputs": [],
   "source": [
    "data_2015_02_23_american_tweets.text.str.split(expand=True).stack().value_counts().head()"
   ]
  },
  {
   "cell_type": "code",
   "execution_count": null,
   "metadata": {},
   "outputs": [],
   "source": [
    "wordcloud = WordCloud(**wc).generate(''.join(data_2015_02_23_american_tweets['text_2']))\n",
    "plt.imshow(wordcloud)\n",
    "plt.axis(\"off\");"
   ]
  },
  {
   "cell_type": "code",
   "execution_count": null,
   "metadata": {},
   "outputs": [],
   "source": [
    "data_2015_02_23_american_tweets.text_2.str.split(expand=True).stack().value_counts().head()"
   ]
  },
  {
   "cell_type": "code",
   "execution_count": null,
   "metadata": {},
   "outputs": [],
   "source": [
    "text = data_2015_02_23_american_tweets[\"text_2\"].to_string()\n",
    "text2 = text.replace(\"americanair\", \"\").replace(\"flight\", \"\")\n",
    "\n",
    "def generate_wordcloud(text): # optionally add: stopwords=STOPWORDS and change the arg below\n",
    "    wordcloud = WordCloud(#relative_scaling = 0.75\n",
    "                          #stopwords = {'to', 'of'} # set or space-separated string\n",
    "                        background_color='#f3f3f3ff',\n",
    "                        #color_func = 'magma',\n",
    "                        #colormap = \"inferno_r\",\n",
    "                        colormap = \"inferno_r\",\n",
    "                        width=800, height=400\n",
    "                          ).generate(text)\n",
    "    plt.imshow(wordcloud)\n",
    "    plt.axis(\"off\")\n",
    "        \n",
    "    \"\"\"\n",
    "    savefig(\"EN_2015_02_23_american_tweets_without_strings_american_flights.png\", papertype=None, format=None,\n",
    "        transparent=True, bbox_inches='tight', pad_inches=0.1,\n",
    "        frameon=None, dpi=500)\n",
    "    \"\"\"\n",
    "\n",
    "    plt.show()\n",
    "\n",
    "generate_wordcloud(text2)"
   ]
  },
  {
   "cell_type": "code",
   "execution_count": null,
   "metadata": {
    "collapsed": true
   },
   "outputs": [],
   "source": [
    "data_2015_02_23_american_neg = (data_2015_02_23_american.\\\n",
    "                                loc[data_2015_02_23_american.airline_sentiment == \"negative\"])[\"text\"]"
   ]
  },
  {
   "cell_type": "code",
   "execution_count": null,
   "metadata": {},
   "outputs": [],
   "source": [
    "#text = data_2015_02_23_american_tweets[\"text_2\"].to_string()\n",
    "#text2 = text.replace(\"americanair\", \"\").replace(\"flight\", \"\")\n",
    "text3 = data_2015_02_23_american_neg.to_string().lower()\n",
    "text4 = text3.replace(\"americanair\", \"\").replace(\"flight\", \"\")\n",
    "\n",
    "def generate_wordcloud(text): # optionally add: stopwords=STOPWORDS and change the arg below\n",
    "    wordcloud = WordCloud(#relative_scaling = 0.75\n",
    "                          #stopwords = {'to', 'of'} # set or space-separated string\n",
    "                        background_color='#f3f3f3ff',\n",
    "                        #color_func = 'magma',\n",
    "                        colormap = \"inferno_r\",\n",
    "                        width=800, height=400\n",
    "                          ).generate(text)\n",
    "    plt.imshow(wordcloud)\n",
    "    plt.axis(\"off\")\n",
    "        \n",
    "    \"\"\"\n",
    "    savefig(\"EN_2015_02_23_neg_american_tweets_without_strings_american_flights.png\", papertype=None, format=None,\n",
    "        transparent=True, bbox_inches='tight', pad_inches=0.1,\n",
    "        frameon=None, dpi=500)\n",
    "    \"\"\"\n",
    "\n",
    "    plt.show()\n",
    "\n",
    "generate_wordcloud(text4)"
   ]
  },
  {
   "cell_type": "code",
   "execution_count": null,
   "metadata": {},
   "outputs": [],
   "source": [
    "def convert_airline_sentiment(df):\n",
    "    df[\"airline_sentiment_coded\"] = \"\"\n",
    "    for index,row in df.iterrows():\n",
    "        if row[\"airline_sentiment\"] == \"negative\":\n",
    "              df.set_value(index,'airline_sentiment_coded',\"0\")\n",
    "        elif row[\"airline_sentiment\"] == \"neutral\":\n",
    "              df.set_value(index,'airline_sentiment_coded',\"1\")\n",
    "        else:\n",
    "              df.set_value(index,'airline_sentiment_coded',\"2\")\n",
    "    df[\"airline_sentiment_coded\"] = df[\"airline_sentiment_coded\"].astype(str).astype(int)\n",
    "\n",
    "convert_airline_sentiment(df)"
   ]
  },
  {
   "cell_type": "code",
   "execution_count": null,
   "metadata": {},
   "outputs": [],
   "source": [
    "df[\"airline_sentiment_coded\"].value_counts()"
   ]
  },
  {
   "cell_type": "code",
   "execution_count": null,
   "metadata": {},
   "outputs": [],
   "source": [
    "print(\"american: \" + str(df['americanair'].corr(df['airline_sentiment_coded'])))\n",
    "print(\"delta: \" + str(df['delta'].corr(df['airline_sentiment_coded'])))\n",
    "print(\"jetblue: \" + str(df['jetblue'].corr(df['airline_sentiment_coded'])))\n",
    "print(\"southwestair: \" + str(df['southwestair'].corr(df['airline_sentiment_coded'])))\n",
    "print(\"united: \" + str(df['united'].corr(df['airline_sentiment_coded'])))\n",
    "print(\"usairways: \" + str(df['usairways'].corr(df['airline_sentiment_coded'])))\n",
    "print(\"virginamerica: \" + str(df['virginamerica'].corr(df['airline_sentiment_coded'])))"
   ]
  },
  {
   "cell_type": "code",
   "execution_count": null,
   "metadata": {},
   "outputs": [],
   "source": [
    "# https://towardsdatascience.com/simple-and-multiple-linear-regression-in-python-c928425168f9\n",
    "import statsmodels.api as sm # import statsmodels \n",
    "\n",
    "y = df[\"airline_sentiment_coded\"]\n",
    "X = df[[\"americanair\", \"delta\", \"jetblue\", \"southwestair\", \"united\", \"usairways\", \"virginamerica\"]]\n",
    "\n",
    "model = sm.OLS(y, X).fit()\n",
    "predictions = model.predict(X)\n",
    "\n",
    "model.summary()"
   ]
  },
  {
   "cell_type": "code",
   "execution_count": null,
   "metadata": {},
   "outputs": [],
   "source": [
    "from sklearn import linear_model\n",
    "lm = linear_model.LinearRegression()\n",
    "y = df[\"airline_sentiment_coded\"]\n",
    "#X = df[[\"americanair\", \"delta\", \"jetblue\", \"southwestair\", \"united\", \"usairways\", \"virginamerica\"]]\n",
    "X = df[[\"southwestair\"]]\n",
    "model = lm.fit(X,y)\n",
    "predictions = lm.predict(X)\n",
    "lm.score(X,y)"
   ]
  },
  {
   "cell_type": "code",
   "execution_count": null,
   "metadata": {
    "collapsed": true
   },
   "outputs": [],
   "source": []
  }
 ],
 "metadata": {
  "kernelspec": {
   "display_name": "Python 3",
   "language": "python",
   "name": "python3"
  },
  "language_info": {
   "codemirror_mode": {
    "name": "ipython",
    "version": 3
   },
   "file_extension": ".py",
   "mimetype": "text/x-python",
   "name": "python",
   "nbconvert_exporter": "python",
   "pygments_lexer": "ipython3",
   "version": "3.6.1"
  }
 },
 "nbformat": 4,
 "nbformat_minor": 2
}
